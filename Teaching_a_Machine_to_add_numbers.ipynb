{
  "nbformat": 4,
  "nbformat_minor": 0,
  "metadata": {
    "colab": {
      "provenance": [],
      "authorship_tag": "ABX9TyMdoDDFMJgx04f+tcjNbnEW",
      "include_colab_link": true
    },
    "kernelspec": {
      "name": "python3",
      "display_name": "Python 3"
    },
    "language_info": {
      "name": "python"
    }
  },
  "cells": [
    {
      "cell_type": "markdown",
      "metadata": {
        "id": "view-in-github",
        "colab_type": "text"
      },
      "source": [
        "<a href=\"https://colab.research.google.com/github/iainonline/project-pump-public/blob/main/Teaching_a_Machine_to_add_numbers.ipynb\" target=\"_parent\"><img src=\"https://colab.research.google.com/assets/colab-badge.svg\" alt=\"Open In Colab\"/></a>"
      ]
    },
    {
      "cell_type": "code",
      "execution_count": 3,
      "metadata": {
        "colab": {
          "base_uri": "https://localhost:8080/"
        },
        "id": "meLlXCY60kY9",
        "outputId": "03b19ee3-6f55-4278-828b-847d4c2ad685"
      },
      "outputs": [
        {
          "output_type": "stream",
          "name": "stdout",
          "text": [
            "Model is successfully trained.\n",
            "Mean Squared Error: 0.0\n",
            "\n",
            "\n",
            "Enter first number: 100\n",
            "Enter second number to add to first: 20\n",
            "\n",
            "\n",
            "You entered: 100 and 20\n",
            "The prediction of summing your two inputs is: 120.00\n"
          ]
        }
      ],
      "source": [
        "import pandas as pd\n",
        "from sklearn.model_selection import train_test_split\n",
        "from sklearn.linear_model import LinearRegression\n",
        "from sklearn.metrics import mean_squared_error\n",
        "from sklearn.preprocessing import StandardScaler\n",
        "\n",
        "# This noteebook demonstrates how to train an ML model to predict the sum of two numbers entered by the user !\n",
        "# It is impressive how well this works, given that the model is trained on a very small dataset of only 5 rows\n",
        "\n",
        "# Example DataFrame creation (replace this with your actual data)\n",
        "data = {\n",
        "    'feature1': [1, 2, 3, 1, 0],\n",
        "    'feature2': [1, 2, 1, 3, 1],\n",
        "    'target_column': [2, 4, 4, 4, 1]\n",
        "}\n",
        "\n",
        "df = pd.DataFrame(data)\n",
        "\n",
        "# Separate features (X) and target variable (y)\n",
        "X = df[['feature1', 'feature2']]\n",
        "y = df['target_column']\n",
        "\n",
        "# Split the data into training and testing sets\n",
        "X_train, X_test, y_train, y_test = train_test_split(X, y, test_size=0.2, random_state=42)\n",
        "\n",
        "# Standardize the features (optional but can be beneficial)\n",
        "scaler = StandardScaler()\n",
        "X_train_scaled = scaler.fit_transform(X_train)\n",
        "X_test_scaled = scaler.transform(X_test)\n",
        "\n",
        "# Create a linear regression model\n",
        "model = LinearRegression()\n",
        "\n",
        "# Train the model\n",
        "model.fit(X_train_scaled, y_train)\n",
        "print('Model is successfully trained.')\n",
        "\n",
        "# Make predictions on the test set\n",
        "y_pred = model.predict(X_test_scaled)\n",
        "\n",
        "# Evaluate the model\n",
        "mse = mean_squared_error(y_test, y_pred)\n",
        "print(f'Mean Squared Error: {mse}')\n",
        "print('\\n')\n",
        "\n",
        "# Use the trained model to make predictions on new data\n",
        "# ask user to enter two numbers to add\n",
        "\n",
        "# get first number\n",
        "while True:\n",
        "    try:\n",
        "        num1 = int(input('Enter first number: '))\n",
        "        break\n",
        "    except ValueError:\n",
        "        print('Invalid input. Please enter an integer.')\n",
        "\n",
        "# get second number\n",
        "while True:\n",
        "    try:\n",
        "        num2 = int(input('Enter second number to add to first: '))\n",
        "        break\n",
        "    except ValueError:\n",
        "        print('Invalid input. Please enter an integer.')\n",
        "\n",
        "new_data = {'feature1': [num1], 'feature2': [num2]}\n",
        "new_df = pd.DataFrame(new_data)\n",
        "new_df_scaled = scaler.transform(new_df)\n",
        "new_predictions = model.predict(new_df_scaled)\n",
        "\n",
        "# print prediction to 2 decimal places\n",
        "# print the numbers the user entered\n",
        "\n",
        "print('\\n')\n",
        "print(f'You entered: {num1} and {num2}')\n",
        "print(f'The prediction of summing your two inputs is: {new_predictions[0]:.2f}')"
      ]
    }
  ]
}