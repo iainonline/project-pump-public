{
  "nbformat": 4,
  "nbformat_minor": 0,
  "metadata": {
    "colab": {
      "provenance": [],
      "authorship_tag": "ABX9TyPZ3wpVhrkVmmA/PC5JXzN3",
      "include_colab_link": true
    },
    "kernelspec": {
      "name": "python3",
      "display_name": "Python 3"
    },
    "language_info": {
      "name": "python"
    }
  },
  "cells": [
    {
      "cell_type": "markdown",
      "metadata": {
        "id": "view-in-github",
        "colab_type": "text"
      },
      "source": [
        "<a href=\"https://colab.research.google.com/github/iainonline/project-pump-public/blob/main/Teaching_a_Machine_to_add_numbers.ipynb\" target=\"_parent\"><img src=\"https://colab.research.google.com/assets/colab-badge.svg\" alt=\"Open In Colab\"/></a>"
      ]
    },
    {
      "cell_type": "code",
      "execution_count": 1,
      "metadata": {
        "colab": {
          "base_uri": "https://localhost:8080/",
          "height": 140
        },
        "id": "meLlXCY60kY9",
        "outputId": "1fd0f83c-b128-4ea5-b320-897e2127dc7f"
      },
      "outputs": [
        {
          "output_type": "error",
          "ename": "SyntaxError",
          "evalue": "ignored",
          "traceback": [
            "\u001b[0;36m  File \u001b[0;32m\"<ipython-input-1-996a4e5541fa>\"\u001b[0;36m, line \u001b[0;32m29\u001b[0m\n\u001b[0;31m    X_train, X_test, y_train, y_test =\u001b[0m\n\u001b[0m                                       ^\u001b[0m\n\u001b[0;31mSyntaxError\u001b[0m\u001b[0;31m:\u001b[0m invalid syntax\n"
          ]
        }
      ],
      "source": [
        "import pandas as pd\n",
        "from sklearn.model_selection import train_test_split\n",
        "from sklearn.linear_model import LinearRegression\n",
        "from sklearn.metrics import mean_squared_error\n",
        "from sklearn.preprocessing import StandardScaler\n",
        "\n",
        "# This noteebook demonstrates how to train a simple ML model\n",
        "# to predict the sum of two numbers entered by the user !\n",
        "\n",
        "# Learn to add dataset\n",
        "# feature1 is the first number\n",
        "# feature2 is the second number\n",
        "# target_column is the sum of the two numbers\n",
        "# first training example is 1 + 1 = 2\n",
        "\n",
        "data = {\n",
        "    'feature1': [1, 2, 3, 1, 0],\n",
        "    'feature2': [1, 2, 1, 3, 1],\n",
        "    'target_column': [2, 4, 4, 4, 1]\n",
        "}\n",
        "\n",
        "df = pd.DataFrame(data)\n",
        "\n",
        "# Separate features (X) and target variable (y)\n",
        "X = df[['feature1', 'feature2']]\n",
        "y = df['target_column']\n",
        "\n",
        "# Split the data into training and testing sets\n",
        "X_train, X_test, y_train, y_test = train_test_split(X, y, test_size=0.2, random_state=42)\n",
        "\n",
        "# Standardize the features (optional but can be beneficial)\n",
        "scaler = StandardScaler()\n",
        "X_train_scaled = scaler.fit_transform(X_train)\n",
        "X_test_scaled = scaler.transform(X_test)\n",
        "\n",
        "# Create a linear regression model\n",
        "model = LinearRegression()\n",
        "\n",
        "# Train the model\n",
        "model.fit(X_train_scaled, y_train)\n",
        "print('Model is successfully trained.')\n",
        "\n",
        "# Make predictions on the test set\n",
        "y_pred = model.predict(X_test_scaled)\n",
        "\n",
        "# Evaluate the model\n",
        "mse = mean_squared_error(y_test, y_pred)\n",
        "print(f'Mean Squared Error: {mse}')\n",
        "print('\\n')\n",
        "\n",
        "# Use the trained model to make predictions on new data\n",
        "# ask user to enter two numbers to add\n",
        "\n",
        "# get first number\n",
        "while True:\n",
        "    try:\n",
        "        num1 = int(input('Enter first number: '))\n",
        "        break\n",
        "    except ValueError:\n",
        "        print('Invalid input. Please enter an integer.')\n",
        "\n",
        "# get second number\n",
        "while True:\n",
        "    try:\n",
        "        num2 = int(input('Enter second number to add to first: '))\n",
        "        break\n",
        "    except ValueError:\n",
        "        print('Invalid input. Please enter an integer.')\n",
        "\n",
        "new_data = {'feature1': [num1], 'feature2': [num2]}\n",
        "new_df = pd.DataFrame(new_data)\n",
        "new_df_scaled = scaler.transform(new_df)\n",
        "new_predictions = model.predict(new_df_scaled)\n",
        "\n",
        "# print prediction to 2 decimal places\n",
        "# print the numbers the user entered\n",
        "\n",
        "print('\\n')\n",
        "print(f'You entered: {num1} and {num2}')\n",
        "print(f'The prediction of summing your two inputs is: {new_predictions[0]:.2f}')"
      ]
    }
  ]
}