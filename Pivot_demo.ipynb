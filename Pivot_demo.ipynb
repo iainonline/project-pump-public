{
  "nbformat": 4,
  "nbformat_minor": 0,
  "metadata": {
    "colab": {
      "provenance": [],
      "authorship_tag": "ABX9TyPYqRi5LsovUasgQeHaKoig",
      "include_colab_link": true
    },
    "kernelspec": {
      "name": "python3",
      "display_name": "Python 3"
    },
    "language_info": {
      "name": "python"
    }
  },
  "cells": [
    {
      "cell_type": "markdown",
      "metadata": {
        "id": "view-in-github",
        "colab_type": "text"
      },
      "source": [
        "<a href=\"https://colab.research.google.com/github/iainonline/project-pump-public/blob/main/Pivot_demo.ipynb\" target=\"_parent\"><img src=\"https://colab.research.google.com/assets/colab-badge.svg\" alt=\"Open In Colab\"/></a>"
      ]
    },
    {
      "cell_type": "code",
      "execution_count": 4,
      "metadata": {
        "colab": {
          "base_uri": "https://localhost:8080/"
        },
        "id": "6hAEksIWzkVl",
        "outputId": "db99ad41-154f-4aa7-9a12-fc2bbf6452ec"
      },
      "outputs": [
        {
          "output_type": "stream",
          "name": "stdout",
          "text": [
            "point         0.0         1.0         2.0\n",
            "frame                                    \n",
            "0.0   -185.910416 -231.862278 -309.274549\n",
            "1.0   -185.368552 -232.258315 -100.000000\n"
          ]
        }
      ],
      "source": [
        "\n",
        "import pandas as pd\n",
        "\n",
        "# Your original data\n",
        "data = {\n",
        "    'point': [0.0, 1.0, 2.0, 0.0, 1.0, 2.0],\n",
        "    'frame': [0.0, 0.0, 0.0, 1.0, 1.0, 1.0],\n",
        "    'target': [-185.910416, -231.862278, -309.274549, -185.368552, -232.258315,-100]}\n",
        "\n",
        "# Creating the DataFrame\n",
        "df = pd.DataFrame(data)\n",
        "\n",
        "# Transposing the DataFrame\n",
        "df_transposed = df.pivot(index='frame', columns='point', values='target')\n",
        "\n",
        "# Displaying the transposed DataFrame\n",
        "print(df_transposed)"
      ]
    }
  ]
}