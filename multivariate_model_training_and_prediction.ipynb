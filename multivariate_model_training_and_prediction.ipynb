{
  "cells": [
    {
      "cell_type": "markdown",
      "metadata": {
        "id": "view-in-github",
        "colab_type": "text"
      },
      "source": [
        "<a href=\"https://colab.research.google.com/github/iainonline/project-pump-public/blob/main/multivariate_model_training_and_prediction.ipynb\" target=\"_parent\"><img src=\"https://colab.research.google.com/assets/colab-badge.svg\" alt=\"Open In Colab\"/></a>"
      ]
    },
    {
      "cell_type": "code",
      "execution_count": 77,
      "metadata": {
        "id": "bja75haHIKsF",
        "outputId": "2dbdc2bd-ac34-4d0a-ba09-1e2fd23c9e0a",
        "colab": {
          "base_uri": "https://localhost:8080/"
        }
      },
      "outputs": [
        {
          "output_type": "stream",
          "name": "stdout",
          "text": [
            "Libraries imported\n"
          ]
        }
      ],
      "source": [
        "# Iain McIntosh\n",
        "# 11/28/2023\n",
        "# Python notebook to forecast future tracks based on trained model and input\n",
        "# from multiple variables\n",
        "\n",
        "import pandas as pd\n",
        "import numpy as np\n",
        "import matplotlib.pyplot as plt\n",
        "from statsmodels.tsa.arima.model import ARIMA\n",
        "from sklearn.metrics import mean_squared_error\n",
        "from sklearn.model_selection import train_test_split\n",
        "\n",
        "print('Libraries imported')"
      ]
    },
    {
      "cell_type": "code",
      "source": [
        "# Example DataFrame created below\n",
        "# This will match the data format for the data I have already captured\n",
        "# This notebood is to prove the model is performing true time series analysis\n",
        "# Before I proceed to use real data\n",
        "\n",
        "# generate a list in time date format seperated by 0.05 seconds\n",
        "timelist = pd.date_range('2023-01-01', periods=15, freq='50ms').tolist()\n",
        "\n",
        "data = {\n",
        "    'time': timelist,\n",
        "    'feature1': [1.5, 2.4, 3, 4.6, 5.3, 6.2, 7.1, 8.5, 9.5, 8, 7, 6, 5, 4, 3],\n",
        "    'feature2': [1, 2, 3.5, 4, 5, 6, 7, 8, 9, 10, 11, 12, 13, 14, 15],\n",
        "    'target': [2, 4, 6, 8.5, 10, 12, 15, 16, 18, 16, 14, 10.5, 8, 4, 2]}\n",
        "\n",
        "print('Multivariate data created')"
      ],
      "metadata": {
        "colab": {
          "base_uri": "https://localhost:8080/"
        },
        "id": "9y2PysusIj5R",
        "outputId": "bef07f61-a8ba-4591-d637-f4b1858804ac"
      },
      "execution_count": 78,
      "outputs": [
        {
          "output_type": "stream",
          "name": "stdout",
          "text": [
            "Multivariate data created\n"
          ]
        }
      ]
    },
    {
      "cell_type": "code",
      "execution_count": 79,
      "metadata": {
        "colab": {
          "base_uri": "https://localhost:8080/"
        },
        "id": "kjqTBDTLIKsH",
        "outputId": "fde06f84-a255-4d15-a372-f6246a7b872e"
      },
      "outputs": [
        {
          "output_type": "stream",
          "name": "stdout",
          "text": [
            "index set to time column\n"
          ]
        }
      ],
      "source": [
        "df = pd.DataFrame(data)\n",
        "\n",
        "# Set index to time column\n",
        "df.set_index('time', inplace=True)\n",
        "print('index set to time column')"
      ]
    },
    {
      "cell_type": "code",
      "execution_count": 80,
      "metadata": {
        "colab": {
          "base_uri": "https://localhost:8080/"
        },
        "id": "WUf3xRkpIKsI",
        "outputId": "72e4b7ed-cade-41a1-b8e7-5de9aa06d1d6"
      },
      "outputs": [
        {
          "output_type": "stream",
          "name": "stdout",
          "text": [
            "Data split into training and testing sets\n"
          ]
        }
      ],
      "source": [
        "# Split the data into training and testing sets\n",
        "train_size = int(len(df) * 0.8)\n",
        "train, test = df[:train_size], df[train_size:]\n",
        "print('Data split into training and testing sets')"
      ]
    },
    {
      "cell_type": "code",
      "execution_count": 81,
      "metadata": {
        "colab": {
          "base_uri": "https://localhost:8080/"
        },
        "id": "xfJ475lIIKsI",
        "outputId": "3e92eb23-7258-4857-c038-b92032b0505f"
      },
      "outputs": [
        {
          "output_type": "stream",
          "name": "stdout",
          "text": [
            "ARIMA model fitted\n",
            "\n"
          ]
        },
        {
          "output_type": "stream",
          "name": "stderr",
          "text": [
            "/usr/local/lib/python3.10/dist-packages/statsmodels/tsa/base/tsa_model.py:473: ValueWarning: No frequency information was provided, so inferred frequency 50L will be used.\n",
            "  self._init_dates(dates, freq)\n",
            "/usr/local/lib/python3.10/dist-packages/statsmodels/tsa/statespace/sarimax.py:978: UserWarning: Non-invertible starting MA parameters found. Using zeros as starting parameters.\n",
            "  warn('Non-invertible starting MA parameters found.'\n"
          ]
        }
      ],
      "source": [
        "# Fit ARIMA model\n",
        "\n",
        "# set model frequency to 50ms\n",
        "order = (1, 1, 1)  # Default order which will need to be tuned to best fit the data\n",
        "model = ARIMA(train['target'], exog=train[['feature1', 'feature2']], order=order, freq='50L')\n",
        "fit_model = model.fit()\n",
        "print('ARIMA model fitted\\n')"
      ]
    },
    {
      "cell_type": "code",
      "execution_count": 82,
      "metadata": {
        "colab": {
          "base_uri": "https://localhost:8080/"
        },
        "id": "XolQRQ7dIKsI",
        "outputId": "bbd625a7-83e3-47eb-82e3-d82853d8d002"
      },
      "outputs": [
        {
          "output_type": "stream",
          "name": "stdout",
          "text": [
            "Forecast for test set completed\n",
            "Model valuated with Mean Squared Error: 6.655167646070788\n",
            "Model saved\n"
          ]
        }
      ],
      "source": [
        "# Forecast for test set\n",
        "forecast = fit_model.forecast(steps=len(test), exog=test[['feature1', 'feature2']])\n",
        "print('Forecast for test set completed')\n",
        "\n",
        "# Evaluate the model\n",
        "mse = mean_squared_error(test['target'], forecast)\n",
        "print(f'Model valuated with Mean Squared Error: {mse}')\n",
        "\n",
        "# Save the model\n",
        "fit_model.save('model.pkl')\n",
        "print('Model saved')"
      ]
    },
    {
      "cell_type": "code",
      "execution_count": 83,
      "metadata": {
        "colab": {
          "base_uri": "https://localhost:8080/"
        },
        "id": "Xp7x2bzoIKsJ",
        "outputId": "ec13b167-b0d2-42be-a6d1-0425a8fef481"
      },
      "outputs": [
        {
          "output_type": "stream",
          "name": "stdout",
          "text": [
            "Dataframe for predicitons created\n"
          ]
        }
      ],
      "source": [
        "# create a new dataframe with the features required for the future predictions\n",
        "# generate a list in time date format seperated by 0.05 seconds\n",
        "timelist = pd.date_range('2023-01-01 00:00:00.750000', periods=5, freq='50ms').tolist()\n",
        "\n",
        "future = pd.DataFrame({'feature1': [16.5,17.5,18.5,19.5,20.5], 'feature2': [16,17,18,19,20], 'futuretime': timelist})\n",
        "\n",
        "# set the index of future dataframe to the futuretime column\n",
        "future.set_index('futuretime', inplace=True)\n",
        "\n",
        "\n",
        "# concatenate the future dataframe with the original dataframe\n",
        "pred = pd.concat([df, future], ignore_index=False)\n",
        "\n",
        "print('Dataframe for predicitons created')"
      ]
    },
    {
      "cell_type": "code",
      "execution_count": 84,
      "metadata": {
        "id": "uBEpsOtcIKsJ"
      },
      "outputs": [],
      "source": [
        "# add a column to the dataframe with the forecast values\n",
        "prediction = fit_model.forecast(steps=len(pred), exog=pred[['feature1', 'feature2']])\n",
        "\n",
        "# sort the dataframe by the index\n",
        "prediction.sort_index(inplace=True)"
      ]
    },
    {
      "cell_type": "code",
      "execution_count": 85,
      "metadata": {
        "id": "NVjL9IZuIKsK"
      },
      "outputs": [],
      "source": [
        "# add the forecast values to pred dataframe\n",
        "pred['forecast'] = prediction.values"
      ]
    },
    {
      "cell_type": "code",
      "execution_count": 86,
      "metadata": {
        "colab": {
          "base_uri": "https://localhost:8080/",
          "height": 847
        },
        "id": "rYOmN5JPIKsK",
        "outputId": "72725b5a-f3c2-4270-bdca-165a3bd06bc7"
      },
      "outputs": [
        {
          "output_type": "display_data",
          "data": {
            "text/plain": [
              "<Figure size 640x480 with 1 Axes>"
            ],
            "image/png": "[encoded data removed]"
          },
          "metadata": {}
        },
        {
          "output_type": "stream",
          "name": "stdout",
          "text": [
            "\n",
            "Data for chart above listed below\n",
            "\n",
            "                         feature1  feature2  target   forecast\n",
            "2023-01-01 00:00:00.000       1.5       1.0     2.0   2.531957\n",
            "2023-01-01 00:00:00.050       2.4       2.0     4.0   4.191920\n",
            "2023-01-01 00:00:00.100       3.0       3.5     6.0   5.410429\n",
            "2023-01-01 00:00:00.150       4.6       4.0     8.5   8.706894\n",
            "2023-01-01 00:00:00.200       5.3       5.0    10.0  10.122663\n",
            "2023-01-01 00:00:00.250       6.2       6.0    12.0  11.952411\n",
            "2023-01-01 00:00:00.300       7.1       7.0    15.0  13.782362\n",
            "2023-01-01 00:00:00.350       8.5       8.0    16.0  16.650063\n",
            "2023-01-01 00:00:00.400       9.5       9.0    18.0  18.687542\n",
            "2023-01-01 00:00:00.450       8.0      10.0    16.0  15.536083\n",
            "2023-01-01 00:00:00.500       7.0      11.0    14.0  13.422411\n",
            "2023-01-01 00:00:00.550       6.0      12.0    10.5  11.308739\n",
            "2023-01-01 00:00:00.600       5.0      13.0     8.0   9.195068\n",
            "2023-01-01 00:00:00.650       4.0      14.0     4.0   7.081396\n",
            "2023-01-01 00:00:00.700       3.0      15.0     2.0   4.967724\n",
            "2023-01-01 00:00:00.750      16.5      16.0     NaN  32.949882\n",
            "2023-01-01 00:00:00.800      17.5      17.0     NaN  34.987360\n",
            "2023-01-01 00:00:00.850      18.5      18.0     NaN  37.024837\n",
            "2023-01-01 00:00:00.900      19.5      19.0     NaN  39.062314\n",
            "2023-01-01 00:00:00.950      20.5      20.0     NaN  41.099792\n"
          ]
        }
      ],
      "source": [
        "# plot the actual values vs the forecast values\n",
        "plt.plot(pred['target'], label='target', marker='o')\n",
        "plt.plot(pred['forecast'], label='forecast', marker='v')\n",
        "\n",
        "# add feature1 and feature2 to the plot\n",
        "plt.plot(pred['feature1'], label='feature1')\n",
        "plt.plot(pred['feature2'], label='feature2')\n",
        "\n",
        "plt.legend(loc='upper left')\n",
        "\n",
        "# draw a vertical line to show where the future predictions on unseen data start\n",
        "plt.axvline(x=pred.index[len(df)], color='grey', linestyle='--')\n",
        "\n",
        "# show the plot\n",
        "plt.show()\n",
        "\n",
        "#print the dataframe\n",
        "print('\\nData for chart above listed below\\n')\n",
        "print(pred)"
      ]
    }
  ],
  "metadata": {
    "kernelspec": {
      "display_name": "Python 3",
      "language": "python",
      "name": "python3"
    },
    "language_info": {
      "codemirror_mode": {
        "name": "ipython",
        "version": 3
      },
      "file_extension": ".py",
      "mimetype": "text/x-python",
      "name": "python",
      "nbconvert_exporter": "python",
      "pygments_lexer": "ipython3",
      "version": "3.9.6"
    },
    "colab": {
      "provenance": [],
      "include_colab_link": true
    }
  },
  "nbformat": 4,
  "nbformat_minor": 0
}